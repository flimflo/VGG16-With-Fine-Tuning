{
 "cells": [
  {
   "cell_type": "markdown",
   "metadata": {},
   "source": [
    "<h1>Actividad Integradora 3</h1>\n",
    "<h2>Equipo 3</h2>\n",
    "<h3>Fernando Limón Flores A00819824</h3>\n",
    "<h3>Vacio</h3>\n",
    "<h3>Vacio</h3>\n",
    "<h3>Vacio</h3>\n",
    "<h3>Vacio</h3>"
   ]
  },
  {
   "cell_type": "code",
   "execution_count": 46,
   "metadata": {},
   "outputs": [],
   "source": [
    "import os\n",
    "import matplotlib.pyplot as plt\n",
    "%matplotlib inline\n",
    "import numpy as np"
   ]
  },
  {
   "cell_type": "markdown",
   "metadata": {},
   "source": [
    "<h2>Recolección y procesamiento de datos</h2>"
   ]
  },
  {
   "cell_type": "markdown",
   "metadata": {},
   "source": [
    "<h3>Conjunto de entrenamiento</h3>"
   ]
  },
  {
   "cell_type": "code",
   "execution_count": 51,
   "metadata": {},
   "outputs": [
    {
     "name": "stdout",
     "output_type": "stream",
     "text": [
      "['ant', 'turtle', 'owl', 'monkey', 'lion']\n",
      "[859, 872, 873, 862, 879]\n"
     ]
    }
   ],
   "source": [
    "setPath = 'train'\n",
    "classes = os.listdir(setPath)\n",
    "if '.DS_Store' in classes: classes.remove('.DS_Store')\n",
    "imgNumber = list()\n",
    "\n",
    "for imgClass in classes:\n",
    "    images = os.listdir(setPath + \"/\" + imgClass)\n",
    "    imgNumber.append(len(images))\n",
    "    \n",
    "print(classes)\n",
    "print(imgNumber)"
   ]
  },
  {
   "cell_type": "code",
   "execution_count": 52,
   "metadata": {},
   "outputs": [
    {
     "data": {
      "image/png": "[encoded data removed]",
      "text/plain": [
       "<Figure size 432x288 with 1 Axes>"
      ]
     },
     "metadata": {
      "needs_background": "light"
     },
     "output_type": "display_data"
    }
   ],
   "source": [
    "x = classes\n",
    "y = imgNumber\n",
    "\n",
    "fig, ax = plt.subplots()    \n",
    "width = 0.75\n",
    "ind = np.arange(len(y))\n",
    "ax.barh(ind, y, width, color=\"blue\")\n",
    "ax.set_yticks(ind+width/2)\n",
    "ax.set_yticklabels(x, minor=False)\n",
    "plt.title('Training set')\n",
    "plt.xlabel('Number of Images')\n",
    "plt.ylabel('Classes')\n",
    "for i, v in enumerate(y):\n",
    "    ax.text(v + 3, i + .25, str(v), color='blue', fontweight='bold')\n",
    "plt.show()"
   ]
  },
  {
   "cell_type": "markdown",
   "metadata": {},
   "source": [
    "<h3>Conjunto de prueba</h3>"
   ]
  },
  {
   "cell_type": "code",
   "execution_count": 55,
   "metadata": {},
   "outputs": [
    {
     "name": "stdout",
     "output_type": "stream",
     "text": [
      "['ant', 'turtle', 'owl', 'monkey', 'lion']\n",
      "[245, 249, 249, 246, 251]\n"
     ]
    }
   ],
   "source": [
    "setPath = 'test'\n",
    "classes = os.listdir(setPath)\n",
    "if '.DS_Store' in classes: classes.remove('.DS_Store')\n",
    "imgNumber = list()\n",
    "\n",
    "for imgClass in classes:\n",
    "    images = os.listdir(setPath + \"/\" + imgClass)\n",
    "    imgNumber.append(len(images))\n",
    "    \n",
    "print(classes)\n",
    "print(imgNumber)"
   ]
  },
  {
   "cell_type": "code",
   "execution_count": 56,
   "metadata": {},
   "outputs": [
    {
     "data": {
      "image/png": "[encoded data removed]",
      "text/plain": [
       "<Figure size 432x288 with 1 Axes>"
      ]
     },
     "metadata": {
      "needs_background": "light"
     },
     "output_type": "display_data"
    }
   ],
   "source": [
    "x = classes\n",
    "y = imgNumber\n",
    "\n",
    "fig, ax = plt.subplots()    \n",
    "width = 0.75\n",
    "ind = np.arange(len(y))\n",
    "ax.barh(ind, y, width, color=\"green\")\n",
    "ax.set_yticks(ind+width/2)\n",
    "ax.set_yticklabels(x, minor=False)\n",
    "plt.title('Training set')\n",
    "plt.xlabel('Number of Images')\n",
    "plt.ylabel('Classes')\n",
    "for i, v in enumerate(y):\n",
    "    ax.text(v + 3, i + .25, str(v), color='green', fontweight='bold')\n",
    "plt.show()"
   ]
  },
  {
   "cell_type": "markdown",
   "metadata": {},
   "source": [
    "<h3>Conjunto de validación</h3>"
   ]
  },
  {
   "cell_type": "code",
   "execution_count": 57,
   "metadata": {},
   "outputs": [
    {
     "name": "stdout",
     "output_type": "stream",
     "text": [
      "['ant', 'turtle', 'owl', 'monkey', 'lion']\n",
      "[124, 126, 126, 124, 126]\n"
     ]
    }
   ],
   "source": [
    "setPath = 'validation'\n",
    "classes = os.listdir(setPath)\n",
    "if '.DS_Store' in classes: classes.remove('.DS_Store')\n",
    "imgNumber = list()\n",
    "\n",
    "for imgClass in classes:\n",
    "    images = os.listdir(setPath + \"/\" + imgClass)\n",
    "    imgNumber.append(len(images))\n",
    "    \n",
    "print(classes)\n",
    "print(imgNumber)"
   ]
  },
  {
   "cell_type": "code",
   "execution_count": 58,
   "metadata": {},
   "outputs": [
    {
     "data": {
      "image/png": "[encoded data removed]",
      "text/plain": [
       "<Figure size 432x288 with 1 Axes>"
      ]
     },
     "metadata": {
      "needs_background": "light"
     },
     "output_type": "display_data"
    }
   ],
   "source": [
    "x = classes\n",
    "y = imgNumber\n",
    "\n",
    "fig, ax = plt.subplots()    \n",
    "width = 0.75\n",
    "ind = np.arange(len(y))\n",
    "ax.barh(ind, y, width, color=\"green\")\n",
    "ax.set_yticks(ind+width/2)\n",
    "ax.set_yticklabels(x, minor=False)\n",
    "plt.title('Training set')\n",
    "plt.xlabel('Number of Images')\n",
    "plt.ylabel('Classes')\n",
    "for i, v in enumerate(y):\n",
    "    ax.text(v + 3, i + .25, str(v), color='green', fontweight='bold')\n",
    "plt.show()"
   ]
  },
  {
   "cell_type": "markdown",
   "metadata": {},
   "source": [
    "<h2>Selección y entrenamiento de modelos</h2>"
   ]
  },
  {
   "cell_type": "code",
   "execution_count": null,
   "metadata": {},
   "outputs": [],
   "source": []
  },
  {
   "cell_type": "markdown",
   "metadata": {},
   "source": [
    "<h2>Evaluación y métricas de desempeño</h2>"
   ]
  },
  {
   "cell_type": "code",
   "execution_count": null,
   "metadata": {},
   "outputs": [],
   "source": []
  },
  {
   "cell_type": "markdown",
   "metadata": {},
   "source": [
    "<h2>Despliegue y reproducibilidad del modelo</h2>"
   ]
  },
  {
   "cell_type": "code",
   "execution_count": null,
   "metadata": {},
   "outputs": [],
   "source": []
  }
 ],
 "metadata": {
  "kernelspec": {
   "display_name": "Python 3",
   "language": "python",
   "name": "python3"
  },
  "language_info": {
   "codemirror_mode": {
    "name": "ipython",
    "version": 3
   },
   "file_extension": ".py",
   "mimetype": "text/x-python",
   "name": "python",
   "nbconvert_exporter": "python",
   "pygments_lexer": "ipython3",
   "version": "3.8.5"
  }
 },
 "nbformat": 4,
 "nbformat_minor": 4
}
